{
  "nbformat": 4,
  "nbformat_minor": 0,
  "metadata": {
    "colab": {
      "name": "weather_forcast",
      "provenance": [],
      "collapsed_sections": []
    },
    "kernelspec": {
      "name": "python3",
      "display_name": "Python 3"
    }
  },
  "cells": [
    {
      "cell_type": "markdown",
      "metadata": {
        "id": "jvefUNV9396A",
        "colab_type": "text"
      },
      "source": [
        "Download the web page containing the forecast.\n",
        "\n",
        "1. Create a BeautifulSoup class to parse the page.\n",
        "2. Find the div with id seven-day-forecast, and assign to seven_day\n",
        "3. Inside seven_day, find each individual forecast item.\n",
        "4. Extract and print the first forecast item."
      ]
    },
    {
      "cell_type": "code",
      "metadata": {
        "id": "Lb-_KXDw1mxd",
        "colab_type": "code",
        "colab": {}
      },
      "source": [
        "import requests\n",
        "from bs4 import BeautifulSoup"
      ],
      "execution_count": 0,
      "outputs": []
    },
    {
      "cell_type": "code",
      "metadata": {
        "id": "Dm-4gHtm17d_",
        "colab_type": "code",
        "colab": {}
      },
      "source": [
        "page = requests.get('https://forecast.weather.gov/MapClick.php?lat=37.7772&lon=-122.4168#.Xn8wV0AzbIU')\n",
        "soup = BeautifulSoup(page.content,'html.parser')\n",
        "seven_day = soup.find(id='seven-day-forecast')"
      ],
      "execution_count": 0,
      "outputs": []
    },
    {
      "cell_type": "code",
      "metadata": {
        "id": "SeGhfrL317oM",
        "colab_type": "code",
        "outputId": "8016cdad-710a-495c-9487-6b9e237b0b04",
        "colab": {
          "base_uri": "https://localhost:8080/",
          "height": 1000
        }
      },
      "source": [
        "print(seven_day.prettify())"
      ],
      "execution_count": 24,
      "outputs": [
        {
          "output_type": "stream",
          "text": [
            "<div class=\"panel panel-default\" id=\"seven-day-forecast\">\n",
            " <div class=\"panel-heading\">\n",
            "  <b>\n",
            "   Extended Forecast for\n",
            "  </b>\n",
            "  <h2 class=\"panel-title\">\n",
            "   San Francisco CA\n",
            "  </h2>\n",
            " </div>\n",
            " <div class=\"panel-body\" id=\"seven-day-forecast-body\">\n",
            "  <div id=\"seven-day-forecast-container\">\n",
            "   <ul class=\"list-unstyled\" id=\"seven-day-forecast-list\">\n",
            "    <li class=\"forecast-tombstone\">\n",
            "     <div class=\"tombstone-container\">\n",
            "      <p class=\"period-name\">\n",
            "       Overnight\n",
            "       <br/>\n",
            "       <br/>\n",
            "      </p>\n",
            "      <p>\n",
            "       <img alt=\"Overnight: Mostly cloudy, with a low around 52. Calm wind. \" class=\"forecast-icon\" src=\"newimages/medium/nbkn.png\" title=\"Overnight: Mostly cloudy, with a low around 52. Calm wind. \"/>\n",
            "      </p>\n",
            "      <p class=\"short-desc\">\n",
            "       Mostly Cloudy\n",
            "      </p>\n",
            "      <p class=\"temp temp-low\">\n",
            "       Low: 52 °F\n",
            "      </p>\n",
            "     </div>\n",
            "    </li>\n",
            "    <li class=\"forecast-tombstone\">\n",
            "     <div class=\"tombstone-container\">\n",
            "      <p class=\"period-name\">\n",
            "       Friday\n",
            "       <br/>\n",
            "       <br/>\n",
            "      </p>\n",
            "      <p>\n",
            "       <img alt=\"Friday: Mostly sunny, with a high near 63. Light west wind increasing to 6 to 11 mph in the afternoon. \" class=\"forecast-icon\" src=\"newimages/medium/sct.png\" title=\"Friday: Mostly sunny, with a high near 63. Light west wind increasing to 6 to 11 mph in the afternoon. \"/>\n",
            "      </p>\n",
            "      <p class=\"short-desc\">\n",
            "       Mostly Sunny\n",
            "      </p>\n",
            "      <p class=\"temp temp-high\">\n",
            "       High: 63 °F\n",
            "      </p>\n",
            "     </div>\n",
            "    </li>\n",
            "    <li class=\"forecast-tombstone\">\n",
            "     <div class=\"tombstone-container\">\n",
            "      <p class=\"period-name\">\n",
            "       Friday\n",
            "       <br/>\n",
            "       Night\n",
            "      </p>\n",
            "      <p>\n",
            "       <img alt=\"Friday Night: Increasing clouds, with a low around 51. West southwest wind 6 to 10 mph. \" class=\"forecast-icon\" src=\"newimages/medium/nsct.png\" title=\"Friday Night: Increasing clouds, with a low around 51. West southwest wind 6 to 10 mph. \"/>\n",
            "      </p>\n",
            "      <p class=\"short-desc\">\n",
            "       Increasing\n",
            "       <br/>\n",
            "       Clouds\n",
            "      </p>\n",
            "      <p class=\"temp temp-low\">\n",
            "       Low: 51 °F\n",
            "      </p>\n",
            "     </div>\n",
            "    </li>\n",
            "    <li class=\"forecast-tombstone\">\n",
            "     <div class=\"tombstone-container\">\n",
            "      <p class=\"period-name\">\n",
            "       Saturday\n",
            "       <br/>\n",
            "       <br/>\n",
            "      </p>\n",
            "      <p>\n",
            "       <img alt=\"Saturday: Partly sunny, with a high near 62. West southwest wind 3 to 7 mph. \" class=\"forecast-icon\" src=\"newimages/medium/bkn.png\" title=\"Saturday: Partly sunny, with a high near 62. West southwest wind 3 to 7 mph. \"/>\n",
            "      </p>\n",
            "      <p class=\"short-desc\">\n",
            "       Partly Sunny\n",
            "      </p>\n",
            "      <p class=\"temp temp-high\">\n",
            "       High: 62 °F\n",
            "      </p>\n",
            "     </div>\n",
            "    </li>\n",
            "    <li class=\"forecast-tombstone\">\n",
            "     <div class=\"tombstone-container\">\n",
            "      <p class=\"period-name\">\n",
            "       Saturday\n",
            "       <br/>\n",
            "       Night\n",
            "      </p>\n",
            "      <p>\n",
            "       <img alt=\"Saturday Night: Partly cloudy, with a low around 51. Southwest wind 5 to 10 mph. \" class=\"forecast-icon\" src=\"newimages/medium/nsct.png\" title=\"Saturday Night: Partly cloudy, with a low around 51. Southwest wind 5 to 10 mph. \"/>\n",
            "      </p>\n",
            "      <p class=\"short-desc\">\n",
            "       Partly Cloudy\n",
            "      </p>\n",
            "      <p class=\"temp temp-low\">\n",
            "       Low: 51 °F\n",
            "      </p>\n",
            "     </div>\n",
            "    </li>\n",
            "    <li class=\"forecast-tombstone\">\n",
            "     <div class=\"tombstone-container\">\n",
            "      <p class=\"period-name\">\n",
            "       Sunday\n",
            "       <br/>\n",
            "       <br/>\n",
            "      </p>\n",
            "      <p>\n",
            "       <img alt=\"Sunday: Mostly sunny, with a high near 66.\" class=\"forecast-icon\" src=\"newimages/medium/sct.png\" title=\"Sunday: Mostly sunny, with a high near 66.\"/>\n",
            "      </p>\n",
            "      <p class=\"short-desc\">\n",
            "       Mostly Sunny\n",
            "      </p>\n",
            "      <p class=\"temp temp-high\">\n",
            "       High: 66 °F\n",
            "      </p>\n",
            "     </div>\n",
            "    </li>\n",
            "    <li class=\"forecast-tombstone\">\n",
            "     <div class=\"tombstone-container\">\n",
            "      <p class=\"period-name\">\n",
            "       Sunday\n",
            "       <br/>\n",
            "       Night\n",
            "      </p>\n",
            "      <p>\n",
            "       <img alt=\"Sunday Night: Mostly clear, with a low around 51.\" class=\"forecast-icon\" src=\"newimages/medium/nfew.png\" title=\"Sunday Night: Mostly clear, with a low around 51.\"/>\n",
            "      </p>\n",
            "      <p class=\"short-desc\">\n",
            "       Mostly Clear\n",
            "      </p>\n",
            "      <p class=\"temp temp-low\">\n",
            "       Low: 51 °F\n",
            "      </p>\n",
            "     </div>\n",
            "    </li>\n",
            "    <li class=\"forecast-tombstone\">\n",
            "     <div class=\"tombstone-container\">\n",
            "      <p class=\"period-name\">\n",
            "       Monday\n",
            "       <br/>\n",
            "       <br/>\n",
            "      </p>\n",
            "      <p>\n",
            "       <img alt=\"Monday: Sunny, with a high near 67.\" class=\"forecast-icon\" src=\"newimages/medium/few.png\" title=\"Monday: Sunny, with a high near 67.\"/>\n",
            "      </p>\n",
            "      <p class=\"short-desc\">\n",
            "       Sunny\n",
            "      </p>\n",
            "      <p class=\"temp temp-high\">\n",
            "       High: 67 °F\n",
            "      </p>\n",
            "     </div>\n",
            "    </li>\n",
            "    <li class=\"forecast-tombstone\">\n",
            "     <div class=\"tombstone-container\">\n",
            "      <p class=\"period-name\">\n",
            "       Monday\n",
            "       <br/>\n",
            "       Night\n",
            "      </p>\n",
            "      <p>\n",
            "       <img alt=\"Monday Night: Mostly clear, with a low around 51.\" class=\"forecast-icon\" src=\"newimages/medium/nfew.png\" title=\"Monday Night: Mostly clear, with a low around 51.\"/>\n",
            "      </p>\n",
            "      <p class=\"short-desc\">\n",
            "       Mostly Clear\n",
            "      </p>\n",
            "      <p class=\"temp temp-low\">\n",
            "       Low: 51 °F\n",
            "      </p>\n",
            "     </div>\n",
            "    </li>\n",
            "   </ul>\n",
            "  </div>\n",
            "  <script type=\"text/javascript\">\n",
            "   // equalize forecast heights\n",
            "$(function () {\n",
            "\tvar maxh = 0;\n",
            "\t$(\".forecast-tombstone .short-desc\").each(function () {\n",
            "\t\tvar h = $(this).height();\n",
            "\t\tif (h > maxh) { maxh = h; }\n",
            "\t});\n",
            "\t$(\".forecast-tombstone .short-desc\").height(maxh);\n",
            "});\n",
            "  </script>\n",
            " </div>\n",
            "</div>\n",
            "\n"
          ],
          "name": "stdout"
        }
      ]
    },
    {
      "cell_type": "code",
      "metadata": {
        "id": "i1hRJD9B68Kx",
        "colab_type": "code",
        "outputId": "577cfdd4-c18d-4d09-b4e5-bc945a74d1d5",
        "colab": {
          "base_uri": "https://localhost:8080/",
          "height": 360
        }
      },
      "source": [
        "forcast_items = seven_day.find_all(class_='tombstone-container')\n",
        "print(forcast_items)"
      ],
      "execution_count": 25,
      "outputs": [
        {
          "output_type": "stream",
          "text": [
            "[<div class=\"tombstone-container\">\n",
            "<p class=\"period-name\">Overnight<br/><br/></p>\n",
            "<p><img alt=\"Overnight: Mostly cloudy, with a low around 52. Calm wind. \" class=\"forecast-icon\" src=\"newimages/medium/nbkn.png\" title=\"Overnight: Mostly cloudy, with a low around 52. Calm wind. \"/></p><p class=\"short-desc\">Mostly Cloudy</p><p class=\"temp temp-low\">Low: 52 °F</p></div>, <div class=\"tombstone-container\">\n",
            "<p class=\"period-name\">Friday<br/><br/></p>\n",
            "<p><img alt=\"Friday: Mostly sunny, with a high near 63. Light west wind increasing to 6 to 11 mph in the afternoon. \" class=\"forecast-icon\" src=\"newimages/medium/sct.png\" title=\"Friday: Mostly sunny, with a high near 63. Light west wind increasing to 6 to 11 mph in the afternoon. \"/></p><p class=\"short-desc\">Mostly Sunny</p><p class=\"temp temp-high\">High: 63 °F</p></div>, <div class=\"tombstone-container\">\n",
            "<p class=\"period-name\">Friday<br/>Night</p>\n",
            "<p><img alt=\"Friday Night: Increasing clouds, with a low around 51. West southwest wind 6 to 10 mph. \" class=\"forecast-icon\" src=\"newimages/medium/nsct.png\" title=\"Friday Night: Increasing clouds, with a low around 51. West southwest wind 6 to 10 mph. \"/></p><p class=\"short-desc\">Increasing<br/>Clouds</p><p class=\"temp temp-low\">Low: 51 °F</p></div>, <div class=\"tombstone-container\">\n",
            "<p class=\"period-name\">Saturday<br/><br/></p>\n",
            "<p><img alt=\"Saturday: Partly sunny, with a high near 62. West southwest wind 3 to 7 mph. \" class=\"forecast-icon\" src=\"newimages/medium/bkn.png\" title=\"Saturday: Partly sunny, with a high near 62. West southwest wind 3 to 7 mph. \"/></p><p class=\"short-desc\">Partly Sunny</p><p class=\"temp temp-high\">High: 62 °F</p></div>, <div class=\"tombstone-container\">\n",
            "<p class=\"period-name\">Saturday<br/>Night</p>\n",
            "<p><img alt=\"Saturday Night: Partly cloudy, with a low around 51. Southwest wind 5 to 10 mph. \" class=\"forecast-icon\" src=\"newimages/medium/nsct.png\" title=\"Saturday Night: Partly cloudy, with a low around 51. Southwest wind 5 to 10 mph. \"/></p><p class=\"short-desc\">Partly Cloudy</p><p class=\"temp temp-low\">Low: 51 °F</p></div>, <div class=\"tombstone-container\">\n",
            "<p class=\"period-name\">Sunday<br/><br/></p>\n",
            "<p><img alt=\"Sunday: Mostly sunny, with a high near 66.\" class=\"forecast-icon\" src=\"newimages/medium/sct.png\" title=\"Sunday: Mostly sunny, with a high near 66.\"/></p><p class=\"short-desc\">Mostly Sunny</p><p class=\"temp temp-high\">High: 66 °F</p></div>, <div class=\"tombstone-container\">\n",
            "<p class=\"period-name\">Sunday<br/>Night</p>\n",
            "<p><img alt=\"Sunday Night: Mostly clear, with a low around 51.\" class=\"forecast-icon\" src=\"newimages/medium/nfew.png\" title=\"Sunday Night: Mostly clear, with a low around 51.\"/></p><p class=\"short-desc\">Mostly Clear</p><p class=\"temp temp-low\">Low: 51 °F</p></div>, <div class=\"tombstone-container\">\n",
            "<p class=\"period-name\">Monday<br/><br/></p>\n",
            "<p><img alt=\"Monday: Sunny, with a high near 67.\" class=\"forecast-icon\" src=\"newimages/medium/few.png\" title=\"Monday: Sunny, with a high near 67.\"/></p><p class=\"short-desc\">Sunny</p><p class=\"temp temp-high\">High: 67 °F</p></div>, <div class=\"tombstone-container\">\n",
            "<p class=\"period-name\">Monday<br/>Night</p>\n",
            "<p><img alt=\"Monday Night: Mostly clear, with a low around 51.\" class=\"forecast-icon\" src=\"newimages/medium/nfew.png\" title=\"Monday Night: Mostly clear, with a low around 51.\"/></p><p class=\"short-desc\">Mostly Clear</p><p class=\"temp temp-low\">Low: 51 °F</p></div>]\n"
          ],
          "name": "stdout"
        }
      ]
    },
    {
      "cell_type": "code",
      "metadata": {
        "id": "3rnM2Q9D17sw",
        "colab_type": "code",
        "outputId": "9a3c8c25-172e-4f5e-9313-6ad10a6a22a0",
        "colab": {
          "base_uri": "https://localhost:8080/",
          "height": 309
        }
      },
      "source": [
        "tonight = forcast_items[1]\n",
        "print(tonight.prettify())"
      ],
      "execution_count": 26,
      "outputs": [
        {
          "output_type": "stream",
          "text": [
            "<div class=\"tombstone-container\">\n",
            " <p class=\"period-name\">\n",
            "  Friday\n",
            "  <br/>\n",
            "  <br/>\n",
            " </p>\n",
            " <p>\n",
            "  <img alt=\"Friday: Mostly sunny, with a high near 63. Light west wind increasing to 6 to 11 mph in the afternoon. \" class=\"forecast-icon\" src=\"newimages/medium/sct.png\" title=\"Friday: Mostly sunny, with a high near 63. Light west wind increasing to 6 to 11 mph in the afternoon. \"/>\n",
            " </p>\n",
            " <p class=\"short-desc\">\n",
            "  Mostly Sunny\n",
            " </p>\n",
            " <p class=\"temp temp-high\">\n",
            "  High: 63 °F\n",
            " </p>\n",
            "</div>\n"
          ],
          "name": "stdout"
        }
      ]
    },
    {
      "cell_type": "markdown",
      "metadata": {
        "id": "rwUwcYou8sx5",
        "colab_type": "text"
      },
      "source": [
        "##Extracting information from the page\n",
        "\n",
        "\n",
        "1. The name of the forecast item — in this case, Tonight.\n",
        "2. The description of the conditions — this is stored in the title property of img.\n",
        "3. A short description of the conditions — in this case, Mostly Clear.\n",
        "4. The temperature low — in this case, 49 degrees.\n",
        "\n"
      ]
    },
    {
      "cell_type": "code",
      "metadata": {
        "id": "AvoukWy118he",
        "colab_type": "code",
        "outputId": "498b9362-84e4-475f-8aa6-3fa5f73acf5a",
        "colab": {
          "base_uri": "https://localhost:8080/",
          "height": 34
        }
      },
      "source": [
        "period = tonight.find(class_ = \"period-name\").get_text()\n",
        "print(period)"
      ],
      "execution_count": 27,
      "outputs": [
        {
          "output_type": "stream",
          "text": [
            "Friday\n"
          ],
          "name": "stdout"
        }
      ]
    },
    {
      "cell_type": "code",
      "metadata": {
        "id": "ZT8-RcSV9gug",
        "colab_type": "code",
        "outputId": "e6fbb5a7-d278-41ef-a882-86e512fba354",
        "colab": {
          "base_uri": "https://localhost:8080/",
          "height": 34
        }
      },
      "source": [
        "short_desc = tonight.find(class_ = 'short-desc' ).get_text()\n",
        "print(short_desc)"
      ],
      "execution_count": 28,
      "outputs": [
        {
          "output_type": "stream",
          "text": [
            "Mostly Sunny\n"
          ],
          "name": "stdout"
        }
      ]
    },
    {
      "cell_type": "code",
      "metadata": {
        "id": "lqVttZIv9g6G",
        "colab_type": "code",
        "colab": {}
      },
      "source": [
        "temp = tonight.find(class_ = 'temp').get_text()"
      ],
      "execution_count": 0,
      "outputs": []
    },
    {
      "cell_type": "code",
      "metadata": {
        "id": "q0NyNxUD9hFa",
        "colab_type": "code",
        "outputId": "e9d683a2-165b-4597-ce59-cb61e6051069",
        "colab": {
          "base_uri": "https://localhost:8080/",
          "height": 34
        }
      },
      "source": [
        "print(temp)"
      ],
      "execution_count": 30,
      "outputs": [
        {
          "output_type": "stream",
          "text": [
            "High: 63 °F\n"
          ],
          "name": "stdout"
        }
      ]
    },
    {
      "cell_type": "code",
      "metadata": {
        "id": "Ac1CGFPY9hRY",
        "colab_type": "code",
        "colab": {}
      },
      "source": [
        "img = tonight.find('img')"
      ],
      "execution_count": 0,
      "outputs": []
    },
    {
      "cell_type": "code",
      "metadata": {
        "id": "8-VDJhtb9hfc",
        "colab_type": "code",
        "outputId": "834e5c9e-0c99-445b-f53f-3317447e5171",
        "colab": {
          "base_uri": "https://localhost:8080/",
          "height": 71
        }
      },
      "source": [
        "print(img.prettify())"
      ],
      "execution_count": 32,
      "outputs": [
        {
          "output_type": "stream",
          "text": [
            "<img alt=\"Friday: Mostly sunny, with a high near 63. Light west wind increasing to 6 to 11 mph in the afternoon. \" class=\"forecast-icon\" src=\"newimages/medium/sct.png\" title=\"Friday: Mostly sunny, with a high near 63. Light west wind increasing to 6 to 11 mph in the afternoon. \"/>\n",
            "\n"
          ],
          "name": "stdout"
        }
      ]
    },
    {
      "cell_type": "code",
      "metadata": {
        "id": "Soq0OLdp8Yht",
        "colab_type": "code",
        "colab": {}
      },
      "source": [
        "desc = img['title']"
      ],
      "execution_count": 0,
      "outputs": []
    },
    {
      "cell_type": "code",
      "metadata": {
        "id": "H_z7bj_qAM2W",
        "colab_type": "code",
        "outputId": "ff035bff-65d4-498e-c758-64b5c175dbe5",
        "colab": {
          "base_uri": "https://localhost:8080/",
          "height": 34
        }
      },
      "source": [
        "print(desc)"
      ],
      "execution_count": 34,
      "outputs": [
        {
          "output_type": "stream",
          "text": [
            "Friday: Mostly sunny, with a high near 63. Light west wind increasing to 6 to 11 mph in the afternoon. \n"
          ],
          "name": "stdout"
        }
      ]
    },
    {
      "cell_type": "markdown",
      "metadata": {
        "id": "o10mMCE0AfQq",
        "colab_type": "text"
      },
      "source": [
        "##Extracting all the elements from the page"
      ]
    },
    {
      "cell_type": "code",
      "metadata": {
        "id": "efJsJIfuASrE",
        "colab_type": "code",
        "colab": {}
      },
      "source": [
        "period_tags = seven_day.select('.tombstone-container .period-name')"
      ],
      "execution_count": 0,
      "outputs": []
    },
    {
      "cell_type": "code",
      "metadata": {
        "id": "2HroufCvAZGd",
        "colab_type": "code",
        "outputId": "fb702a44-4580-4264-e990-bee6b8e2d741",
        "colab": {
          "base_uri": "https://localhost:8080/",
          "height": 54
        }
      },
      "source": [
        "print(period_tags)"
      ],
      "execution_count": 36,
      "outputs": [
        {
          "output_type": "stream",
          "text": [
            "[<p class=\"period-name\">Overnight<br/><br/></p>, <p class=\"period-name\">Friday<br/><br/></p>, <p class=\"period-name\">Friday<br/>Night</p>, <p class=\"period-name\">Saturday<br/><br/></p>, <p class=\"period-name\">Saturday<br/>Night</p>, <p class=\"period-name\">Sunday<br/><br/></p>, <p class=\"period-name\">Sunday<br/>Night</p>, <p class=\"period-name\">Monday<br/><br/></p>, <p class=\"period-name\">Monday<br/>Night</p>]\n"
          ],
          "name": "stdout"
        }
      ]
    },
    {
      "cell_type": "code",
      "metadata": {
        "id": "hsI4NlNXAZL0",
        "colab_type": "code",
        "outputId": "b91d0b67-d3a9-4050-fd6d-a849a8bd592f",
        "colab": {
          "base_uri": "https://localhost:8080/",
          "height": 34
        }
      },
      "source": [
        "periods = [pt.get_text() for pt in period_tags]\n",
        "print(periods)"
      ],
      "execution_count": 37,
      "outputs": [
        {
          "output_type": "stream",
          "text": [
            "['Overnight', 'Friday', 'FridayNight', 'Saturday', 'SaturdayNight', 'Sunday', 'SundayNight', 'Monday', 'MondayNight']\n"
          ],
          "name": "stdout"
        }
      ]
    },
    {
      "cell_type": "code",
      "metadata": {
        "id": "Sf6Y1w4zAZQM",
        "colab_type": "code",
        "colab": {}
      },
      "source": [
        "temps = [t.get_text() for t in seven_day.select('.tombstone-container .temp')]\n",
        "short_des = [st.get_text() for st in seven_day.select('.tombstone-container .short-desc')]\n",
        "descs = [d['title'] for d in seven_day.select('.tombstone-container img')]"
      ],
      "execution_count": 0,
      "outputs": []
    },
    {
      "cell_type": "code",
      "metadata": {
        "id": "IQRfz4L2AZWA",
        "colab_type": "code",
        "outputId": "176dcae1-6df7-4e61-c1a6-571b59816700",
        "colab": {
          "base_uri": "https://localhost:8080/",
          "height": 105
        }
      },
      "source": [
        "print(periods)\n",
        "print(temps)\n",
        "print(short_des)\n",
        "print(descs)"
      ],
      "execution_count": 39,
      "outputs": [
        {
          "output_type": "stream",
          "text": [
            "['Overnight', 'Friday', 'FridayNight', 'Saturday', 'SaturdayNight', 'Sunday', 'SundayNight', 'Monday', 'MondayNight']\n",
            "['Low: 52 °F', 'High: 63 °F', 'Low: 51 °F', 'High: 62 °F', 'Low: 51 °F', 'High: 66 °F', 'Low: 51 °F', 'High: 67 °F', 'Low: 51 °F']\n",
            "['Mostly Cloudy', 'Mostly Sunny', 'IncreasingClouds', 'Partly Sunny', 'Partly Cloudy', 'Mostly Sunny', 'Mostly Clear', 'Sunny', 'Mostly Clear']\n",
            "['Overnight: Mostly cloudy, with a low around 52. Calm wind. ', 'Friday: Mostly sunny, with a high near 63. Light west wind increasing to 6 to 11 mph in the afternoon. ', 'Friday Night: Increasing clouds, with a low around 51. West southwest wind 6 to 10 mph. ', 'Saturday: Partly sunny, with a high near 62. West southwest wind 3 to 7 mph. ', 'Saturday Night: Partly cloudy, with a low around 51. Southwest wind 5 to 10 mph. ', 'Sunday: Mostly sunny, with a high near 66.', 'Sunday Night: Mostly clear, with a low around 51.', 'Monday: Sunny, with a high near 67.', 'Monday Night: Mostly clear, with a low around 51.']\n"
          ],
          "name": "stdout"
        }
      ]
    },
    {
      "cell_type": "markdown",
      "metadata": {
        "id": "3SrH4r0wF5hk",
        "colab_type": "text"
      },
      "source": [
        "#Combining our data into pandas dataframe"
      ]
    },
    {
      "cell_type": "code",
      "metadata": {
        "id": "YZOpqbmCFTWo",
        "colab_type": "code",
        "colab": {}
      },
      "source": [
        "import pandas as pd \n",
        "weather = pd.DataFrame (\n",
        "    {\n",
        "        'Period': periods,\n",
        "     'temp' : temps,\n",
        "     'short_desc': short_des,\n",
        "     'description': descs\n",
        "    }\n",
        ")"
      ],
      "execution_count": 0,
      "outputs": []
    },
    {
      "cell_type": "code",
      "metadata": {
        "id": "J-nh2ERgFUZT",
        "colab_type": "code",
        "outputId": "a546ac75-3865-40f0-85c1-ea65478e7014",
        "colab": {
          "base_uri": "https://localhost:8080/",
          "height": 328
        }
      },
      "source": [
        "weather"
      ],
      "execution_count": 41,
      "outputs": [
        {
          "output_type": "execute_result",
          "data": {
            "text/html": [
              "<div>\n",
              "<style scoped>\n",
              "    .dataframe tbody tr th:only-of-type {\n",
              "        vertical-align: middle;\n",
              "    }\n",
              "\n",
              "    .dataframe tbody tr th {\n",
              "        vertical-align: top;\n",
              "    }\n",
              "\n",
              "    .dataframe thead th {\n",
              "        text-align: right;\n",
              "    }\n",
              "</style>\n",
              "<table border=\"1\" class=\"dataframe\">\n",
              "  <thead>\n",
              "    <tr style=\"text-align: right;\">\n",
              "      <th></th>\n",
              "      <th>Period</th>\n",
              "      <th>temp</th>\n",
              "      <th>short_desc</th>\n",
              "      <th>description</th>\n",
              "    </tr>\n",
              "  </thead>\n",
              "  <tbody>\n",
              "    <tr>\n",
              "      <th>0</th>\n",
              "      <td>Overnight</td>\n",
              "      <td>Low: 52 °F</td>\n",
              "      <td>Mostly Cloudy</td>\n",
              "      <td>Overnight: Mostly cloudy, with a low around 52...</td>\n",
              "    </tr>\n",
              "    <tr>\n",
              "      <th>1</th>\n",
              "      <td>Friday</td>\n",
              "      <td>High: 63 °F</td>\n",
              "      <td>Mostly Sunny</td>\n",
              "      <td>Friday: Mostly sunny, with a high near 63. Lig...</td>\n",
              "    </tr>\n",
              "    <tr>\n",
              "      <th>2</th>\n",
              "      <td>FridayNight</td>\n",
              "      <td>Low: 51 °F</td>\n",
              "      <td>IncreasingClouds</td>\n",
              "      <td>Friday Night: Increasing clouds, with a low ar...</td>\n",
              "    </tr>\n",
              "    <tr>\n",
              "      <th>3</th>\n",
              "      <td>Saturday</td>\n",
              "      <td>High: 62 °F</td>\n",
              "      <td>Partly Sunny</td>\n",
              "      <td>Saturday: Partly sunny, with a high near 62. W...</td>\n",
              "    </tr>\n",
              "    <tr>\n",
              "      <th>4</th>\n",
              "      <td>SaturdayNight</td>\n",
              "      <td>Low: 51 °F</td>\n",
              "      <td>Partly Cloudy</td>\n",
              "      <td>Saturday Night: Partly cloudy, with a low arou...</td>\n",
              "    </tr>\n",
              "    <tr>\n",
              "      <th>5</th>\n",
              "      <td>Sunday</td>\n",
              "      <td>High: 66 °F</td>\n",
              "      <td>Mostly Sunny</td>\n",
              "      <td>Sunday: Mostly sunny, with a high near 66.</td>\n",
              "    </tr>\n",
              "    <tr>\n",
              "      <th>6</th>\n",
              "      <td>SundayNight</td>\n",
              "      <td>Low: 51 °F</td>\n",
              "      <td>Mostly Clear</td>\n",
              "      <td>Sunday Night: Mostly clear, with a low around 51.</td>\n",
              "    </tr>\n",
              "    <tr>\n",
              "      <th>7</th>\n",
              "      <td>Monday</td>\n",
              "      <td>High: 67 °F</td>\n",
              "      <td>Sunny</td>\n",
              "      <td>Monday: Sunny, with a high near 67.</td>\n",
              "    </tr>\n",
              "    <tr>\n",
              "      <th>8</th>\n",
              "      <td>MondayNight</td>\n",
              "      <td>Low: 51 °F</td>\n",
              "      <td>Mostly Clear</td>\n",
              "      <td>Monday Night: Mostly clear, with a low around 51.</td>\n",
              "    </tr>\n",
              "  </tbody>\n",
              "</table>\n",
              "</div>"
            ],
            "text/plain": [
              "          Period  ...                                        description\n",
              "0      Overnight  ...  Overnight: Mostly cloudy, with a low around 52...\n",
              "1         Friday  ...  Friday: Mostly sunny, with a high near 63. Lig...\n",
              "2    FridayNight  ...  Friday Night: Increasing clouds, with a low ar...\n",
              "3       Saturday  ...  Saturday: Partly sunny, with a high near 62. W...\n",
              "4  SaturdayNight  ...  Saturday Night: Partly cloudy, with a low arou...\n",
              "5         Sunday  ...         Sunday: Mostly sunny, with a high near 66.\n",
              "6    SundayNight  ...  Sunday Night: Mostly clear, with a low around 51.\n",
              "7         Monday  ...                Monday: Sunny, with a high near 67.\n",
              "8    MondayNight  ...  Monday Night: Mostly clear, with a low around 51.\n",
              "\n",
              "[9 rows x 4 columns]"
            ]
          },
          "metadata": {
            "tags": []
          },
          "execution_count": 41
        }
      ]
    },
    {
      "cell_type": "code",
      "metadata": {
        "id": "bSRLhho7G9JR",
        "colab_type": "code",
        "colab": {}
      },
      "source": [
        ""
      ],
      "execution_count": 0,
      "outputs": []
    }
  ]
}