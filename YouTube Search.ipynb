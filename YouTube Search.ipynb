{
 "cells": [
  {
   "cell_type": "code",
   "execution_count": null,
   "metadata": {},
   "outputs": [],
   "source": [
    "!pip install selenium"
   ]
  },
  {
   "cell_type": "code",
   "execution_count": 1,
   "metadata": {},
   "outputs": [],
   "source": [
    "from selenium import webdriver\n",
    "from bs4 import BeautifulSoup\n",
    "import os, random, sys, time\n",
    "from urllib.parse import urlparse\n",
    "import csv\n",
    "import time\n",
    "import pandas as pd"
   ]
  },
  {
   "cell_type": "code",
   "execution_count": 2,
   "metadata": {},
   "outputs": [],
   "source": [
    "def get_utube_data(search_query):\n",
    "    \n",
    "    '''Enter Search Query/Keyword'''\n",
    "    \n",
    "    query = search_query\n",
    "    url = 'https://www.youtube.com/results?search_query='\n",
    "    for i in range(len(query.split())):\n",
    "        url = url  + query.split()[i] \n",
    "    \n",
    "    browser = webdriver.Chrome('chromedriver.exe')\n",
    "    browser.get('https://www.youtube.com/results?search_query=data+science')\n",
    "    soup = BeautifulSoup(browser.page_source)\n",
    "\n",
    "    a_title = soup.find_all('a',attrs={'id' : 'video-title'})\n",
    "\n",
    "    title = []\n",
    "    video_link = []\n",
    "    views = []\n",
    "    channel_name = []\n",
    "    subscribers = []\n",
    "    for i in a_title[0:10]:\n",
    "        title.append(i.get_text().strip())\n",
    "        video_link.append(i.get('href'))\n",
    "        \n",
    "    base_url = 'https://youtube.com/'\n",
    "    for i in video_link:\n",
    "        time.sleep(6)\n",
    "        browser = webdriver.Chrome('chromedriver.exe')\n",
    "        browser.get(base_url + str(i))\n",
    "        soup = BeautifulSoup(browser.page_source)\n",
    "\n",
    "        v = soup.find('yt-view-count-renderer',attrs={'class':'style-scope ytd-video-primary-info-renderer'}).text.split()[0]\n",
    "        views.append(v)\n",
    "        c = soup.find('yt-formatted-string',attrs = {'id' : 'text','class' : 'style-scope ytd-channel-name'}).text\n",
    "        #yt-simple-endpoint style-scope yt-formatted-string\n",
    "        channel_name.append(c)\n",
    "        s = soup.find('yt-formatted-string', attrs = {'id' : 'owner-sub-count', \n",
    "                                                  'class' : 'style-scope ytd-video-owner-renderer'}).text.split()[0]\n",
    "        subscribers.append(s)\n",
    "        \n",
    "    return title,views,channel_name,subscribers"
   ]
  },
  {
   "cell_type": "code",
   "execution_count": 3,
   "metadata": {},
   "outputs": [],
   "source": [
    "title,views,channel_name,subscribers = get_utube_data('data science')\n",
    "search_data = pd.DataFrame({'Title' : title,'views' : views,\n",
    "                            'channel_name' : channel_name,'subscribers' : subscribers})"
   ]
  },
  {
   "cell_type": "code",
   "execution_count": 4,
   "metadata": {},
   "outputs": [
    {
     "data": {
      "text/html": [
       "<div>\n",
       "<style scoped>\n",
       "    .dataframe tbody tr th:only-of-type {\n",
       "        vertical-align: middle;\n",
       "    }\n",
       "\n",
       "    .dataframe tbody tr th {\n",
       "        vertical-align: top;\n",
       "    }\n",
       "\n",
       "    .dataframe thead th {\n",
       "        text-align: right;\n",
       "    }\n",
       "</style>\n",
       "<table border=\"1\" class=\"dataframe\">\n",
       "  <thead>\n",
       "    <tr style=\"text-align: right;\">\n",
       "      <th></th>\n",
       "      <th>Title</th>\n",
       "      <th>views</th>\n",
       "      <th>channel_name</th>\n",
       "      <th>subscribers</th>\n",
       "    </tr>\n",
       "  </thead>\n",
       "  <tbody>\n",
       "    <tr>\n",
       "      <th>0</th>\n",
       "      <td>Data Science Full Course - Learn Data Science ...</td>\n",
       "      <td>756,538</td>\n",
       "      <td>edureka!</td>\n",
       "      <td>1.85M</td>\n",
       "    </tr>\n",
       "    <tr>\n",
       "      <th>1</th>\n",
       "      <td>Data Science In 5 Minutes | Data Science For B...</td>\n",
       "      <td>1,082,502</td>\n",
       "      <td>Simplilearn</td>\n",
       "      <td>564K</td>\n",
       "    </tr>\n",
       "    <tr>\n",
       "      <th>2</th>\n",
       "      <td>Is Data Science The Right Choice For You?</td>\n",
       "      <td>64,735</td>\n",
       "      <td>Bhavesh Bhatt</td>\n",
       "      <td>20K</td>\n",
       "    </tr>\n",
       "    <tr>\n",
       "      <th>3</th>\n",
       "      <td>How I Would Learn Data Science (If I Had to St...</td>\n",
       "      <td>392,384</td>\n",
       "      <td>Ken Jee</td>\n",
       "      <td>59.9K</td>\n",
       "    </tr>\n",
       "    <tr>\n",
       "      <th>4</th>\n",
       "      <td>How To Learn Data Science Smartly?</td>\n",
       "      <td>616,919</td>\n",
       "      <td>Krish Naik</td>\n",
       "      <td>188K</td>\n",
       "    </tr>\n",
       "    <tr>\n",
       "      <th>5</th>\n",
       "      <td>Data Science Tutorial | Data Science for Begin...</td>\n",
       "      <td>354,074</td>\n",
       "      <td>Great Learning</td>\n",
       "      <td>166K</td>\n",
       "    </tr>\n",
       "    <tr>\n",
       "      <th>6</th>\n",
       "      <td>How To Become A Data Scientist In India (in 2020)</td>\n",
       "      <td>54,751</td>\n",
       "      <td>365 Data Science</td>\n",
       "      <td>112K</td>\n",
       "    </tr>\n",
       "    <tr>\n",
       "      <th>7</th>\n",
       "      <td>Data Science in 8 Minutes | Data Science for B...</td>\n",
       "      <td>154,870</td>\n",
       "      <td>edureka!</td>\n",
       "      <td>1.85M</td>\n",
       "    </tr>\n",
       "    <tr>\n",
       "      <th>8</th>\n",
       "      <td>Highest Paid Jobs of Future | Data Scientist C...</td>\n",
       "      <td>133,864</td>\n",
       "      <td>Praveen Dilliwala</td>\n",
       "      <td>2.41M</td>\n",
       "    </tr>\n",
       "    <tr>\n",
       "      <th>9</th>\n",
       "      <td>How to Learn Data Science in 2020 | Step By St...</td>\n",
       "      <td>13,996</td>\n",
       "      <td>edureka!</td>\n",
       "      <td>1.85M</td>\n",
       "    </tr>\n",
       "  </tbody>\n",
       "</table>\n",
       "</div>"
      ],
      "text/plain": [
       "                                               Title      views  \\\n",
       "0  Data Science Full Course - Learn Data Science ...    756,538   \n",
       "1  Data Science In 5 Minutes | Data Science For B...  1,082,502   \n",
       "2          Is Data Science The Right Choice For You?     64,735   \n",
       "3  How I Would Learn Data Science (If I Had to St...    392,384   \n",
       "4                 How To Learn Data Science Smartly?    616,919   \n",
       "5  Data Science Tutorial | Data Science for Begin...    354,074   \n",
       "6  How To Become A Data Scientist In India (in 2020)     54,751   \n",
       "7  Data Science in 8 Minutes | Data Science for B...    154,870   \n",
       "8  Highest Paid Jobs of Future | Data Scientist C...    133,864   \n",
       "9  How to Learn Data Science in 2020 | Step By St...     13,996   \n",
       "\n",
       "        channel_name subscribers  \n",
       "0           edureka!       1.85M  \n",
       "1        Simplilearn        564K  \n",
       "2      Bhavesh Bhatt         20K  \n",
       "3            Ken Jee       59.9K  \n",
       "4         Krish Naik        188K  \n",
       "5     Great Learning        166K  \n",
       "6   365 Data Science        112K  \n",
       "7           edureka!       1.85M  \n",
       "8  Praveen Dilliwala       2.41M  \n",
       "9           edureka!       1.85M  "
      ]
     },
     "execution_count": 4,
     "metadata": {},
     "output_type": "execute_result"
    }
   ],
   "source": [
    "search_data"
   ]
  },
  {
   "cell_type": "code",
   "execution_count": null,
   "metadata": {},
   "outputs": [],
   "source": []
  },
  {
   "cell_type": "code",
   "execution_count": null,
   "metadata": {},
   "outputs": [],
   "source": []
  },
  {
   "cell_type": "code",
   "execution_count": null,
   "metadata": {},
   "outputs": [],
   "source": []
  },
  {
   "cell_type": "code",
   "execution_count": null,
   "metadata": {},
   "outputs": [],
   "source": []
  },
  {
   "cell_type": "code",
   "execution_count": null,
   "metadata": {},
   "outputs": [],
   "source": []
  },
  {
   "cell_type": "code",
   "execution_count": null,
   "metadata": {},
   "outputs": [],
   "source": []
  },
  {
   "cell_type": "code",
   "execution_count": null,
   "metadata": {},
   "outputs": [],
   "source": []
  },
  {
   "cell_type": "code",
   "execution_count": 153,
   "metadata": {},
   "outputs": [
    {
     "ename": "NameError",
     "evalue": "name 'Video_Title' is not defined",
     "output_type": "error",
     "traceback": [
      "\u001b[1;31m---------------------------------------------------------------------------\u001b[0m",
      "\u001b[1;31mNameError\u001b[0m                                 Traceback (most recent call last)",
      "\u001b[1;32m<ipython-input-153-63a53cfed7bc>\u001b[0m in \u001b[0;36m<module>\u001b[1;34m\u001b[0m\n\u001b[0;32m      2\u001b[0m \u001b[1;32mwith\u001b[0m \u001b[0mopen\u001b[0m\u001b[1;33m(\u001b[0m\u001b[1;34m\"Youtube_search_data.csv\"\u001b[0m\u001b[1;33m,\u001b[0m\u001b[1;34m\"w\"\u001b[0m\u001b[1;33m)\u001b[0m \u001b[1;32mas\u001b[0m \u001b[0mf\u001b[0m\u001b[1;33m:\u001b[0m\u001b[1;33m\u001b[0m\u001b[1;33m\u001b[0m\u001b[0m\n\u001b[0;32m      3\u001b[0m     \u001b[0mf\u001b[0m\u001b[1;33m.\u001b[0m\u001b[0mwrite\u001b[0m\u001b[1;33m(\u001b[0m\u001b[1;34m'Video_Title,Views,Channel_Name,Subscribers'\u001b[0m\u001b[1;33m)\u001b[0m\u001b[1;33m\u001b[0m\u001b[1;33m\u001b[0m\u001b[0m\n\u001b[1;32m----> 4\u001b[1;33m     \u001b[0mVideo_Title\u001b[0m\u001b[1;33m.\u001b[0m\u001b[0mappend\u001b[0m\u001b[1;33m(\u001b[0m\u001b[1;36m1\u001b[0m\u001b[1;33m)\u001b[0m\u001b[1;33m\u001b[0m\u001b[1;33m\u001b[0m\u001b[0m\n\u001b[0m",
      "\u001b[1;31mNameError\u001b[0m: name 'Video_Title' is not defined"
     ]
    }
   ],
   "source": [
    "import csv\n",
    "with open(\"Youtube_search_data.csv\",\"w\") as f:\n",
    "    f.write('Video_Title,Views,Channel_Name,Subscribers')\n",
    "    Video_Title.append(1)"
   ]
  },
  {
   "cell_type": "code",
   "execution_count": null,
   "metadata": {},
   "outputs": [],
   "source": []
  },
  {
   "cell_type": "code",
   "execution_count": null,
   "metadata": {},
   "outputs": [],
   "source": []
  },
  {
   "cell_type": "code",
   "execution_count": 138,
   "metadata": {},
   "outputs": [
    {
     "name": "stdout",
     "output_type": "stream",
     "text": [
      "https://www.youtube.com/results?search_query=machinelearning\n"
     ]
    }
   ],
   "source": [
    "query = 'data science'\n",
    "url = 'https://www.youtube.com/results?search_query='\n",
    "for i in range(len(query.split())):\n",
    "    url = url  + query.split()[i] \n",
    "    \n",
    "    #continue\n",
    "    #break\n",
    "print(url)    \n",
    "#print(np.arange(len(query.split())))"
   ]
  },
  {
   "cell_type": "code",
   "execution_count": 146,
   "metadata": {},
   "outputs": [],
   "source": [
    "browser = webdriver.Chrome('chromedriver.exe')\n",
    "browser.get('https://www.youtube.com/results?search_query=datascience')\n",
    "soup = BeautifulSoup(browser.page_source)"
   ]
  },
  {
   "cell_type": "code",
   "execution_count": 149,
   "metadata": {},
   "outputs": [],
   "source": [
    "a_title = soup.find_all('a',attrs={'id' : 'video-title'})\n",
    "\n",
    "base_url = 'https://youtube.com/'\n",
    "\n",
    "title_list = []\n",
    "video_link = []\n",
    "for i in a_title[0:10]:\n",
    "    title_list.append(i.get_text().strip())\n",
    "    video_link.append(base_url + i.get('href'))"
   ]
  },
  {
   "cell_type": "code",
   "execution_count": 150,
   "metadata": {},
   "outputs": [
    {
     "data": {
      "text/plain": [
       "['https://youtube.com//watch?v=-ETQ97mXXF0',\n",
       " 'https://youtube.com//watch?v=X3paOmcrTjQ',\n",
       " 'https://youtube.com//watch?v=u2zsY-2uZiE',\n",
       " 'https://youtube.com//watch?v=csG_qfOTvxw',\n",
       " 'https://youtube.com//watch?v=edvg4eHi_Mw',\n",
       " 'https://youtube.com//watch?v=S8MmsBsGP-Q',\n",
       " 'https://youtube.com//watch?v=4OZip0cgOho',\n",
       " 'https://youtube.com//watch?v=Scg59_McA8Q',\n",
       " 'https://youtube.com//watch?v=KdgQvgE3ji4',\n",
       " 'https://youtube.com//watch?v=tBU65SsJG_8']"
      ]
     },
     "execution_count": 150,
     "metadata": {},
     "output_type": "execute_result"
    }
   ],
   "source": [
    "video_link"
   ]
  },
  {
   "cell_type": "code",
   "execution_count": 151,
   "metadata": {},
   "outputs": [
    {
     "data": {
      "text/plain": [
       "['Data Science Full Course - Learn Data Science in 10 Hours | Data Science For Beginners | Edureka',\n",
       " 'Data Science In 5 Minutes | Data Science For Beginners | What Is Data Science? | Simplilearn',\n",
       " 'Data Science Tutorial | Data Science for Beginners | Python for Data Science | 11 Hours Full Course',\n",
       " 'How To Learn Data Science Smartly?',\n",
       " 'Python for Data Science | Data Science with Python | Python for Data Analysis | 11 Hours Full Course',\n",
       " 'Data Science & Artificial Intelligence Career Advice by Real-Life Data Scientists',\n",
       " 'How I Would Learn Data Science (If I Had to Start Over)',\n",
       " \"Highest Paid Jobs of Future | Data Scientist Complete Detail Hindi | Courses | Salary | Degree's\",\n",
       " 'Data Science in 8 Minutes | Data Science for Beginners | What is Data Science? | Edureka',\n",
       " 'How To Become A Data Scientist In India (in 2020)']"
      ]
     },
     "execution_count": 151,
     "metadata": {},
     "output_type": "execute_result"
    }
   ],
   "source": [
    "title_list"
   ]
  },
  {
   "cell_type": "code",
   "execution_count": 110,
   "metadata": {},
   "outputs": [
    {
     "name": "stdout",
     "output_type": "stream",
     "text": [
      "['154K']\n",
      "['#edureka']\n",
      "['1.85M']\n"
     ]
    }
   ],
   "source": [
    "from requests import get\n",
    "import time\n",
    "\n",
    "base_url = 'https://youtube.com/'\n",
    "\n",
    "views = []\n",
    "channel_name = []\n",
    "subscribers = []\n",
    "\n",
    "for i in video_link:\n",
    "    time.sleep(5)\n",
    "    browser = webdriver.Chrome('chromedriver.exe')\n",
    "    browser.get(base_url + str(i))\n",
    "    soup = BeautifulSoup(browser.page_source)\n",
    "\n",
    "    v = (soup.find('span',attrs={'class':'short-view-count style-scope yt-view-count-renderer'}).text.split(' ')[0])\n",
    "    views.append(v)\n",
    "    c = soup.find('a',attrs = {'class' : 'yt-simple-endpoint style-scope yt-formatted-string'}).text\n",
    "    channel_name.append(c)\n",
    "    s = soup.find('yt-formatted-string', attrs = {'id' : 'owner-sub-count', \n",
    "                                              'class' : 'style-scope ytd-video-owner-renderer'}).text.split()[0]\n",
    "    subscribers.append(s)\n",
    "    \n",
    "print(views)\n",
    "print(channel_name)\n",
    "print(subscribers)\n",
    "\n",
    "#view-count style-scope yt-view-count-renderer\n",
    "#view-count style-scope yt-view-count-renderer\n",
    "\n",
    "#short-view-count style-scope yt-view-count-renderer\n",
    "#short-view-count style-scope yt-view-count-renderer\n"
   ]
  },
  {
   "cell_type": "code",
   "execution_count": null,
   "metadata": {},
   "outputs": [],
   "source": []
  },
  {
   "cell_type": "code",
   "execution_count": 104,
   "metadata": {},
   "outputs": [
    {
     "name": "stdout",
     "output_type": "stream",
     "text": [
      "https://youtube.com//watch?v=-ETQ97mXXF0\n",
      "https://youtube.com//watch?v=X3paOmcrTjQ\n",
      "https://youtube.com//watch?v=bRohws1bo1U\n",
      "https://youtube.com//watch?v=csG_qfOTvxw\n",
      "https://youtube.com//watch?v=4OZip0cgOho\n",
      "https://youtube.com//watch?v=u2zsY-2uZiE\n",
      "https://youtube.com//watch?v=tBU65SsJG_8\n",
      "https://youtube.com//watch?v=UujVADnExsQ\n",
      "https://youtube.com//watch?v=iLcvvVXBSFo\n",
      "https://youtube.com//watch?v=KdgQvgE3ji4\n"
     ]
    }
   ],
   "source": [
    "for i in video_link:\n",
    "    time.sleep(1)\n",
    "    #browser = webdriver.Chrome('chromedriver.exe')\n",
    "    print((base_url + str(i)))"
   ]
  },
  {
   "cell_type": "code",
   "execution_count": null,
   "metadata": {},
   "outputs": [],
   "source": [
    "https://www.youtube.com/watch?v=csG_qfOTvxw"
   ]
  },
  {
   "cell_type": "code",
   "execution_count": 92,
   "metadata": {},
   "outputs": [
    {
     "name": "stdout",
     "output_type": "stream",
     "text": [
      "<class 'str'>\n",
      "<class 'str'>\n"
     ]
    }
   ],
   "source": [
    "url = ['https://youtube.com//watch?v=-ETQ97mXXF0','https://youtube.com//watch?v=X3paOmcrTjQ']\n",
    "for i in url:\n",
    "    print(type(i))"
   ]
  },
  {
   "cell_type": "code",
   "execution_count": 87,
   "metadata": {},
   "outputs": [
    {
     "name": "stdout",
     "output_type": "stream",
     "text": [
      "['755,928']\n",
      "['edureka!']\n",
      "['1.85M']\n"
     ]
    }
   ],
   "source": [
    "print(views)\n",
    "print(channel_name)\n",
    "print(subscribers)"
   ]
  },
  {
   "cell_type": "code",
   "execution_count": 106,
   "metadata": {},
   "outputs": [
    {
     "ename": "AttributeError",
     "evalue": "'NoneType' object has no attribute 'text'",
     "output_type": "error",
     "traceback": [
      "\u001b[1;31m---------------------------------------------------------------------------\u001b[0m",
      "\u001b[1;31mAttributeError\u001b[0m                            Traceback (most recent call last)",
      "\u001b[1;32m<ipython-input-106-4f3add5da53e>\u001b[0m in \u001b[0;36m<module>\u001b[1;34m\u001b[0m\n\u001b[1;32m----> 1\u001b[1;33m \u001b[0msoup\u001b[0m\u001b[1;33m.\u001b[0m\u001b[0mfind\u001b[0m\u001b[1;33m(\u001b[0m\u001b[1;34m'span'\u001b[0m\u001b[1;33m,\u001b[0m\u001b[0mattrs\u001b[0m\u001b[1;33m=\u001b[0m\u001b[1;33m{\u001b[0m\u001b[1;34m'class'\u001b[0m\u001b[1;33m:\u001b[0m\u001b[1;34m'view-count style-scope yt-view-count-renderer'\u001b[0m\u001b[1;33m}\u001b[0m\u001b[1;33m)\u001b[0m\u001b[1;33m.\u001b[0m\u001b[0mtext\u001b[0m\u001b[1;33m.\u001b[0m\u001b[0msplit\u001b[0m\u001b[1;33m(\u001b[0m\u001b[1;34m' '\u001b[0m\u001b[1;33m)\u001b[0m\u001b[1;33m[\u001b[0m\u001b[1;36m0\u001b[0m\u001b[1;33m]\u001b[0m\u001b[1;33m\u001b[0m\u001b[1;33m\u001b[0m\u001b[0m\n\u001b[0m",
      "\u001b[1;31mAttributeError\u001b[0m: 'NoneType' object has no attribute 'text'"
     ]
    }
   ],
   "source": [
    "soup.find('span',attrs={'class':'view-count style-scope yt-view-count-renderer'}).text.split(' ')[0]"
   ]
  },
  {
   "cell_type": "code",
   "execution_count": 72,
   "metadata": {},
   "outputs": [
    {
     "data": {
      "text/plain": [
       "'edureka!'"
      ]
     },
     "execution_count": 72,
     "metadata": {},
     "output_type": "execute_result"
    }
   ],
   "source": [
    "soup.find('a',attrs = {'class' : 'yt-simple-endpoint style-scope yt-formatted-string'}).text"
   ]
  },
  {
   "cell_type": "code",
   "execution_count": 80,
   "metadata": {},
   "outputs": [
    {
     "data": {
      "text/plain": [
       "'1.85M'"
      ]
     },
     "execution_count": 80,
     "metadata": {},
     "output_type": "execute_result"
    }
   ],
   "source": [
    "soup.find('yt-formatted-string', attrs = {'id' : 'owner-sub-count', \n",
    "                                          'class' : 'style-scope ytd-video-owner-renderer'}).text.split()[0]"
   ]
  },
  {
   "cell_type": "code",
   "execution_count": null,
   "metadata": {},
   "outputs": [],
   "source": []
  }
 ],
 "metadata": {
  "kernelspec": {
   "display_name": "Python 3",
   "language": "python",
   "name": "python3"
  },
  "language_info": {
   "codemirror_mode": {
    "name": "ipython",
    "version": 3
   },
   "file_extension": ".py",
   "mimetype": "text/x-python",
   "name": "python",
   "nbconvert_exporter": "python",
   "pygments_lexer": "ipython3",
   "version": "3.7.6"
  }
 },
 "nbformat": 4,
 "nbformat_minor": 4
}
