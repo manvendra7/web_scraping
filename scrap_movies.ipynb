{
  "nbformat": 4,
  "nbformat_minor": 0,
  "metadata": {
    "colab": {
      "name": "scrap_movies.ipynb",
      "provenance": [],
      "collapsed_sections": [],
      "authorship_tag": "ABX9TyND4GqcwUNW0x7nnlqYdR0q"
    },
    "kernelspec": {
      "name": "python3",
      "display_name": "Python 3"
    }
  },
  "cells": [
    {
      "cell_type": "code",
      "metadata": {
        "id": "WrWzGMCB9wkf",
        "colab_type": "code",
        "colab": {}
      },
      "source": [
        "from requests import get\n",
        "from bs4 import BeautifulSoup"
      ],
      "execution_count": 0,
      "outputs": []
    },
    {
      "cell_type": "code",
      "metadata": {
        "id": "8bZPi1lC96VI",
        "colab_type": "code",
        "colab": {}
      },
      "source": [
        "url = 'http://www.imdb.com/search/title?release_date=2017&sort=num_votes,desc&page=1'"
      ],
      "execution_count": 0,
      "outputs": []
    },
    {
      "cell_type": "code",
      "metadata": {
        "id": "LkLVpSSm96bA",
        "colab_type": "code",
        "colab": {}
      },
      "source": [
        "response = get(url)"
      ],
      "execution_count": 0,
      "outputs": []
    },
    {
      "cell_type": "code",
      "metadata": {
        "id": "aLbF5-YH96g0",
        "colab_type": "code",
        "outputId": "2ecb87fa-868a-4ea5-fe67-22d29791ff92",
        "colab": {
          "base_uri": "https://localhost:8080/",
          "height": 374
        }
      },
      "source": [
        "print(response.text[:500])"
      ],
      "execution_count": 4,
      "outputs": [
        {
          "output_type": "stream",
          "text": [
            "\n",
            "\n",
            "\n",
            "<!DOCTYPE html>\n",
            "<html\n",
            "    xmlns:og=\"http://ogp.me/ns#\"\n",
            "    xmlns:fb=\"http://www.facebook.com/2008/fbml\">\n",
            "    <head>\n",
            "         \n",
            "        <meta charset=\"utf-8\">\n",
            "        <meta http-equiv=\"X-UA-Compatible\" content=\"IE=edge\">\n",
            "\n",
            "    <meta name=\"apple-itunes-app\" content=\"app-id=342792525, app-argument=imdb:///?src=mdot\">\n",
            "\n",
            "\n",
            "\n",
            "        <script type=\"text/javascript\">var IMDbTimer={starttime: new Date().getTime(),pt:'java'};</script>\n",
            "\n",
            "<script>\n",
            "    if (typeof uet == 'function') {\n",
            "      uet(\"bb\", \"LoadTitle\"\n"
          ],
          "name": "stdout"
        }
      ]
    },
    {
      "cell_type": "code",
      "metadata": {
        "id": "A2cIcvvE_l8u",
        "colab_type": "code",
        "colab": {}
      },
      "source": [
        "html_soup = BeautifulSoup(response.text, 'html.parser')"
      ],
      "execution_count": 0,
      "outputs": []
    },
    {
      "cell_type": "code",
      "metadata": {
        "id": "aTHM68RY96mP",
        "colab_type": "code",
        "colab": {}
      },
      "source": [
        "movie_containers = html_soup.find_all('div', class_ = 'lister-item mode-advanced')"
      ],
      "execution_count": 0,
      "outputs": []
    },
    {
      "cell_type": "code",
      "metadata": {
        "id": "aQgvs7NT96r4",
        "colab_type": "code",
        "outputId": "4e1347b7-c111-47df-e7f7-eb0b7d496db9",
        "colab": {
          "base_uri": "https://localhost:8080/",
          "height": 34
        }
      },
      "source": [
        "print(len(movie_containers))"
      ],
      "execution_count": 7,
      "outputs": [
        {
          "output_type": "stream",
          "text": [
            "50\n"
          ],
          "name": "stdout"
        }
      ]
    },
    {
      "cell_type": "markdown",
      "metadata": {
        "id": "C3tFmkVBAT6X",
        "colab_type": "text"
      },
      "source": [
        "1. The name of the movie.\n",
        "2. The year of release.\n",
        "3. The IMDB rating.\n",
        "4. The Metascore.\n",
        "5. The number of votes."
      ]
    },
    {
      "cell_type": "code",
      "metadata": {
        "id": "2ze_Fx_996zT",
        "colab_type": "code",
        "colab": {}
      },
      "source": [
        "first_movie = movie_containers[0]"
      ],
      "execution_count": 0,
      "outputs": []
    },
    {
      "cell_type": "code",
      "metadata": {
        "id": "MUMrXwVMAbKF",
        "colab_type": "code",
        "outputId": "56bc7f0b-d738-4840-efe6-77cdd68c5f89",
        "colab": {
          "base_uri": "https://localhost:8080/",
          "height": 68
        }
      },
      "source": [
        "first_movie.div"
      ],
      "execution_count": 9,
      "outputs": [
        {
          "output_type": "execute_result",
          "data": {
            "text/plain": [
              "<div class=\"lister-top-right\">\n",
              "<div class=\"ribbonize\" data-caller=\"filmosearch\" data-tconst=\"tt3315342\"></div>\n",
              "</div>"
            ]
          },
          "metadata": {
            "tags": []
          },
          "execution_count": 9
        }
      ]
    },
    {
      "cell_type": "code",
      "metadata": {
        "id": "8D-h-i5UAbiI",
        "colab_type": "code",
        "outputId": "a3c6fe62-5992-4990-fbc5-b7208dcc05ec",
        "colab": {
          "base_uri": "https://localhost:8080/",
          "height": 71
        }
      },
      "source": [
        "first_movie.a"
      ],
      "execution_count": 10,
      "outputs": [
        {
          "output_type": "execute_result",
          "data": {
            "text/plain": [
              "<a href=\"/title/tt3315342/\"> <img alt=\"Logan\" class=\"loadlate\" data-tconst=\"tt3315342\" height=\"98\" loadlate=\"https://m.media-amazon.com/images/M/MV5BYzc5MTU4N2EtYTkyMi00NjdhLTg3NWEtMTY4OTEyMzJhZTAzXkEyXkFqcGdeQXVyNjc1NTYyMjg@._V1_UX67_CR0,0,67,98_AL_.jpg\" src=\"https://m.media-amazon.com/images/G/01/imdb/images/nopicture/large/film-184890147._CB466725069_.png\" width=\"67\"/>\n",
              "</a>"
            ]
          },
          "metadata": {
            "tags": []
          },
          "execution_count": 10
        }
      ]
    },
    {
      "cell_type": "code",
      "metadata": {
        "id": "gAoTG-tqAb0X",
        "colab_type": "code",
        "outputId": "6762a335-8798-4906-a854-894b12f00cc8",
        "colab": {
          "base_uri": "https://localhost:8080/",
          "height": 102
        }
      },
      "source": [
        "first_movie.h3"
      ],
      "execution_count": 11,
      "outputs": [
        {
          "output_type": "execute_result",
          "data": {
            "text/plain": [
              "<h3 class=\"lister-item-header\">\n",
              "<span class=\"lister-item-index unbold text-primary\">1.</span>\n",
              "<a href=\"/title/tt3315342/\">Logan</a>\n",
              "<span class=\"lister-item-year text-muted unbold\">(2017)</span>\n",
              "</h3>"
            ]
          },
          "metadata": {
            "tags": []
          },
          "execution_count": 11
        }
      ]
    },
    {
      "cell_type": "code",
      "metadata": {
        "id": "cSCjPkMeAcD5",
        "colab_type": "code",
        "outputId": "79da1248-5db1-413b-d42e-e3b41cb6a3a0",
        "colab": {
          "base_uri": "https://localhost:8080/",
          "height": 34
        }
      },
      "source": [
        "first_movie.h3.a.get_text()"
      ],
      "execution_count": 12,
      "outputs": [
        {
          "output_type": "execute_result",
          "data": {
            "text/plain": [
              "'Logan'"
            ]
          },
          "metadata": {
            "tags": []
          },
          "execution_count": 12
        }
      ]
    },
    {
      "cell_type": "markdown",
      "metadata": {
        "id": "nEsrUi2PGrjV",
        "colab_type": "text"
      },
      "source": [
        "Year of the movie release"
      ]
    },
    {
      "cell_type": "code",
      "metadata": {
        "id": "vUhgIvnYFuiB",
        "colab_type": "code",
        "outputId": "c37f6fc5-4ec9-45eb-f76a-9f069ab770f6",
        "colab": {
          "base_uri": "https://localhost:8080/",
          "height": 34
        }
      },
      "source": [
        "first_year = first_movie.h3.find('span', class_ = 'lister-item-year text-muted unbold').get_text()\n",
        "first_year"
      ],
      "execution_count": 13,
      "outputs": [
        {
          "output_type": "execute_result",
          "data": {
            "text/plain": [
              "'(2017)'"
            ]
          },
          "metadata": {
            "tags": []
          },
          "execution_count": 13
        }
      ]
    },
    {
      "cell_type": "code",
      "metadata": {
        "id": "TGIR40glFul-",
        "colab_type": "code",
        "colab": {}
      },
      "source": [
        "details = first_movie.p.find('span', class_ = 'genre')\n",
        "first_details = str(details.text)"
      ],
      "execution_count": 0,
      "outputs": []
    },
    {
      "cell_type": "code",
      "metadata": {
        "id": "gIpwacSxI8CA",
        "colab_type": "code",
        "outputId": "023cf194-3c02-402f-8707-61d709becb1e",
        "colab": {
          "base_uri": "https://localhost:8080/",
          "height": 51
        }
      },
      "source": [
        "print(first_details)"
      ],
      "execution_count": 15,
      "outputs": [
        {
          "output_type": "stream",
          "text": [
            "\n",
            "Action, Drama, Sci-Fi            \n"
          ],
          "name": "stdout"
        }
      ]
    },
    {
      "cell_type": "code",
      "metadata": {
        "id": "rrQ0A7q7I8Qo",
        "colab_type": "code",
        "outputId": "6cec40b8-1829-4e0f-b15c-47a75f6fac4e",
        "colab": {
          "base_uri": "https://localhost:8080/",
          "height": 34
        }
      },
      "source": [
        "first_imdb = float(first_movie.strong.get_text())\n",
        "first_imdb"
      ],
      "execution_count": 16,
      "outputs": [
        {
          "output_type": "execute_result",
          "data": {
            "text/plain": [
              "8.1"
            ]
          },
          "metadata": {
            "tags": []
          },
          "execution_count": 16
        }
      ]
    },
    {
      "cell_type": "code",
      "metadata": {
        "id": "4RVqLk8eFurB",
        "colab_type": "code",
        "colab": {}
      },
      "source": [
        "mscore = first_movie.find('span', class_ = 'metascore favorable')\n",
        "first_mscore = int(mscore.text)"
      ],
      "execution_count": 0,
      "outputs": []
    },
    {
      "cell_type": "code",
      "metadata": {
        "id": "FZUifg0WLpL_",
        "colab_type": "code",
        "outputId": "bdb9c656-eb00-48be-b6b0-f92a0604e914",
        "colab": {
          "base_uri": "https://localhost:8080/",
          "height": 34
        }
      },
      "source": [
        "print(first_mscore)"
      ],
      "execution_count": 18,
      "outputs": [
        {
          "output_type": "stream",
          "text": [
            "77\n"
          ],
          "name": "stdout"
        }
      ]
    },
    {
      "cell_type": "code",
      "metadata": {
        "id": "JrerRQY_LpXK",
        "colab_type": "code",
        "outputId": "59c465ee-eb16-4f87-fa1d-4927e2bc97a8",
        "colab": {
          "base_uri": "https://localhost:8080/",
          "height": 34
        }
      },
      "source": [
        "votes = first_movie.find('span', attrs={'name':'nv'})\n",
        "print(votes.text)"
      ],
      "execution_count": 19,
      "outputs": [
        {
          "output_type": "stream",
          "text": [
            "607,481\n"
          ],
          "name": "stdout"
        }
      ]
    },
    {
      "cell_type": "code",
      "metadata": {
        "id": "gVHqUgfpOf_P",
        "colab_type": "code",
        "outputId": "1f0277eb-e07b-4a67-c14d-4a73846fc983",
        "colab": {
          "base_uri": "https://localhost:8080/",
          "height": 34
        }
      },
      "source": [
        "votes['data-value']"
      ],
      "execution_count": 20,
      "outputs": [
        {
          "output_type": "execute_result",
          "data": {
            "text/plain": [
              "'607481'"
            ]
          },
          "metadata": {
            "tags": []
          },
          "execution_count": 20
        }
      ]
    },
    {
      "cell_type": "code",
      "metadata": {
        "id": "dR9MfRX1OgLj",
        "colab_type": "code",
        "colab": {}
      },
      "source": [
        "first_votes = int(votes['data-value'])"
      ],
      "execution_count": 0,
      "outputs": []
    },
    {
      "cell_type": "code",
      "metadata": {
        "id": "AJngwhNhOgU6",
        "colab_type": "code",
        "outputId": "dededbfb-183f-474b-92f2-d3cc5c15f4af",
        "colab": {
          "base_uri": "https://localhost:8080/",
          "height": 34
        }
      },
      "source": [
        "first_votes"
      ],
      "execution_count": 22,
      "outputs": [
        {
          "output_type": "execute_result",
          "data": {
            "text/plain": [
              "607481"
            ]
          },
          "metadata": {
            "tags": []
          },
          "execution_count": 22
        }
      ]
    },
    {
      "cell_type": "code",
      "metadata": {
        "id": "khk6LvEPLpiA",
        "colab_type": "code",
        "colab": {}
      },
      "source": [
        "tm = movie_containers[22].find('div',class_ = 'ratings-metascore')"
      ],
      "execution_count": 0,
      "outputs": []
    },
    {
      "cell_type": "code",
      "metadata": {
        "id": "DhtXh4aLFuu8",
        "colab_type": "code",
        "outputId": "4c9220d2-961b-40be-dbd4-dea7342240a7",
        "colab": {
          "base_uri": "https://localhost:8080/",
          "height": 34
        }
      },
      "source": [
        "type(tm)"
      ],
      "execution_count": 24,
      "outputs": [
        {
          "output_type": "execute_result",
          "data": {
            "text/plain": [
              "NoneType"
            ]
          },
          "metadata": {
            "tags": []
          },
          "execution_count": 24
        }
      ]
    },
    {
      "cell_type": "code",
      "metadata": {
        "id": "IyaCizPiTfuM",
        "colab_type": "code",
        "colab": {}
      },
      "source": [
        "Names = []\n",
        "Years = []\n",
        "IMDB_ratings = []\n",
        "MetaScore = []\n",
        "Votes = []\n",
        "Gener = []\n",
        "\n",
        "for Container in movie_containers:\n",
        "  if Container.find('div', class_ ='ratings-metascore') is not None:\n",
        "    name = Container.h3.a.text\n",
        "    Names.append(name)\n",
        "\n",
        "    year = Container.h3.find('span', class_ = 'lister-item-year text-muted unbold').text\n",
        "    Years.append(year)\n",
        "\n",
        "    imdb = float(Container.strong.text)\n",
        "    IMDB_ratings.append(imdb)\n",
        "\n",
        "    m_score = Container.find('span', class_ = 'metascore favorable')\n",
        "    MetaScore.append(m_score)\n",
        "\n",
        "    votes = Container.find('span', attrs={'name':'nv'})['data-value']\n",
        "    Votes.append(votes)\n",
        "\n",
        "    gener = Container.p.find('span', class_ = 'genre').text\n",
        "    Gener.append(gener)"
      ],
      "execution_count": 0,
      "outputs": []
    },
    {
      "cell_type": "code",
      "metadata": {
        "id": "VLolvS04X5V8",
        "colab_type": "code",
        "colab": {}
      },
      "source": [
        "import pandas as pd\n",
        "IMDB_Data = pd.DataFrame({\n",
        "    'Name':Names,\n",
        "    'Year':Years,\n",
        "    'Ratings':IMDB_ratings,\n",
        "    'Score':MetaScore,\n",
        "    'Votes':Votes,\n",
        "    'Gener':Gener\n",
        "})"
      ],
      "execution_count": 0,
      "outputs": []
    },
    {
      "cell_type": "code",
      "metadata": {
        "id": "wEH5tKr8Y-rY",
        "colab_type": "code",
        "outputId": "efbf85ec-49b3-4f5d-b829-3b5cb45500b5",
        "colab": {
          "base_uri": "https://localhost:8080/",
          "height": 255
        }
      },
      "source": [
        "print(IMDB_Data.info())"
      ],
      "execution_count": 27,
      "outputs": [
        {
          "output_type": "stream",
          "text": [
            "<class 'pandas.core.frame.DataFrame'>\n",
            "RangeIndex: 42 entries, 0 to 41\n",
            "Data columns (total 6 columns):\n",
            " #   Column   Non-Null Count  Dtype  \n",
            "---  ------   --------------  -----  \n",
            " 0   Name     42 non-null     object \n",
            " 1   Year     42 non-null     object \n",
            " 2   Ratings  42 non-null     float64\n",
            " 3   Score    27 non-null     object \n",
            " 4   Votes    42 non-null     object \n",
            " 5   Gener    42 non-null     object \n",
            "dtypes: float64(1), object(5)\n",
            "memory usage: 2.1+ KB\n",
            "None\n"
          ],
          "name": "stdout"
        }
      ]
    },
    {
      "cell_type": "code",
      "metadata": {
        "id": "NZ_FsY3TZEh_",
        "colab_type": "code",
        "colab": {}
      },
      "source": [
        "pages = [str(i) for i in range(1,5)]\n",
        "years_url = [str(i) for i in range(2000,2018)]"
      ],
      "execution_count": 0,
      "outputs": []
    },
    {
      "cell_type": "code",
      "metadata": {
        "id": "_Xcfivrz4IZX",
        "colab_type": "code",
        "colab": {}
      },
      "source": [
        "from IPython.core.display import clear_output\n",
        "from time import time\n",
        "from time import sleep\n",
        "from random import randint"
      ],
      "execution_count": 0,
      "outputs": []
    },
    {
      "cell_type": "code",
      "metadata": {
        "id": "qwZdp4ixp3AJ",
        "colab_type": "code",
        "outputId": "499f0221-80a7-44ab-fabf-85624be2f50a",
        "colab": {
          "base_uri": "https://localhost:8080/",
          "height": 34
        }
      },
      "source": [
        "Names = []\n",
        "Years = []\n",
        "IMDB_ratings = []\n",
        "MetaScore = []\n",
        "Votes = []\n",
        "Gener = []\n",
        "\n",
        "start_time = time()\n",
        "requests = 0\n",
        "\n",
        "for year_url in years_url:\n",
        "   \n",
        "   for page in pages:\n",
        "     response = get('http://www.imdb.com/search/title?release_date=' + year_url +\n",
        "                    '&sort=num_votes,desc&page=' + page)\n",
        "     \n",
        "     sleep(randint(8,15))\n",
        "\n",
        "     requests+=1\n",
        "     elapsed_time = time() - start_time\n",
        "     print('Request:{}; Frequency: {} requests/s'.format(requests, requests/elapsed_time))\n",
        "     clear_output(wait = True)\n",
        "\n",
        "     if response.status_code != 200:\n",
        "       warn('Request: {}; Status code: {}'.format(requests, response.status_code))\n",
        "\n",
        "     if requests > 72:\n",
        "       warn('Number of requests was greater than expected.')\n",
        "       break\n",
        "\n",
        "     page_html = BeautifulSoup(response.text,'html.parser')\n",
        "     mv_containers = page_html.find_all('div', 'lister-item mode-advanced')\n",
        "\n",
        "     for Container in movie_containers:\n",
        "       if Container.find('div', class_ ='ratings-metascore') is not None:\n",
        "          name = Container.h3.a.text\n",
        "          Names.append(name)\n",
        "\n",
        "          year = Container.h3.find('span', class_ = 'lister-item-year text-muted unbold').text\n",
        "          Years.append(year)\n",
        "\n",
        "          imdb = float(Container.strong.text)\n",
        "          IMDB_ratings.append(imdb)\n",
        "\n",
        "          m_score = Container.find('span', class_ = 'metascore favorable')\n",
        "          MetaScore.append(m_score)\n",
        "\n",
        "          votes = Container.find('span', attrs={'name':'nv'})['data-value']\n",
        "          Votes.append(votes)\n",
        "\n",
        "          gener = Container.p.find('span', class_ = 'genre').text\n",
        "          Gener.append(gener)"
      ],
      "execution_count": 30,
      "outputs": [
        {
          "output_type": "stream",
          "text": [
            "Request:72; Frequency: 0.08090895733225932 requests/s\n"
          ],
          "name": "stdout"
        }
      ]
    },
    {
      "cell_type": "code",
      "metadata": {
        "id": "-IAIAgJhp3ES",
        "colab_type": "code",
        "colab": {}
      },
      "source": [
        "import pandas as pd\n",
        "IMDB_Data = pd.DataFrame({\n",
        "    'Name':Names,\n",
        "    'Year':Years,\n",
        "    'Ratings':IMDB_ratings,\n",
        "    'Score':MetaScore,\n",
        "    'Votes':Votes,\n",
        "    'Gener':Gener\n",
        "})"
      ],
      "execution_count": 0,
      "outputs": []
    },
    {
      "cell_type": "code",
      "metadata": {
        "id": "0tDsjsJCp3Iv",
        "colab_type": "code",
        "outputId": "3b4e393b-67af-487f-c330-4e0481643784",
        "colab": {
          "base_uri": "https://localhost:8080/",
          "height": 255
        }
      },
      "source": [
        "print(IMDB_Data.info())"
      ],
      "execution_count": 32,
      "outputs": [
        {
          "output_type": "stream",
          "text": [
            "<class 'pandas.core.frame.DataFrame'>\n",
            "RangeIndex: 3024 entries, 0 to 3023\n",
            "Data columns (total 6 columns):\n",
            " #   Column   Non-Null Count  Dtype  \n",
            "---  ------   --------------  -----  \n",
            " 0   Name     3024 non-null   object \n",
            " 1   Year     3024 non-null   object \n",
            " 2   Ratings  3024 non-null   float64\n",
            " 3   Score    1944 non-null   object \n",
            " 4   Votes    3024 non-null   object \n",
            " 5   Gener    3024 non-null   object \n",
            "dtypes: float64(1), object(5)\n",
            "memory usage: 141.9+ KB\n",
            "None\n"
          ],
          "name": "stdout"
        }
      ]
    },
    {
      "cell_type": "code",
      "metadata": {
        "id": "iVBmgB86p3Ri",
        "colab_type": "code",
        "colab": {}
      },
      "source": [
        "#IMDB_Data.to_csv('IMDB_DATA')"
      ],
      "execution_count": 0,
      "outputs": []
    },
    {
      "cell_type": "code",
      "metadata": {
        "id": "20ma52PGp3WK",
        "colab_type": "code",
        "colab": {}
      },
      "source": [
        "#!cp data.csv 'drive/My Drive/'"
      ],
      "execution_count": 0,
      "outputs": []
    }
  ]
}